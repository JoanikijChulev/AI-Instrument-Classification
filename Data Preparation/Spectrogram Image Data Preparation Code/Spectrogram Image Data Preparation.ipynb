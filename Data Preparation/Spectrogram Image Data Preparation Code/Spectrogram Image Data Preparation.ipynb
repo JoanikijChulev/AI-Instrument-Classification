{
 "cells": [
  {
   "cell_type": "markdown",
   "id": "dca68a62-6219-4b3f-b276-121d75f76859",
   "metadata": {
    "jp-MarkdownHeadingCollapsed": true
   },
   "source": [
    "## Import Libraries and Load Files/Set Output"
   ]
  },
  {
   "cell_type": "code",
   "execution_count": null,
   "id": "5ec52816-0471-4232-af63-183babf1a237",
   "metadata": {},
   "outputs": [],
   "source": [
    "import os\n",
    "import librosa\n",
    "import numpy as np\n",
    "import matplotlib.pyplot as plt\n",
    "import matplotlib\n",
    "import pandas as pd\n",
    "import pickle\n",
    "import gc\n",
    "matplotlib.use('Agg') #do NOT remove this line of code!"
   ]
  },
  {
   "cell_type": "code",
   "execution_count": null,
   "id": "122341ec-9016-416f-bb65-f972e05bee4c",
   "metadata": {},
   "outputs": [],
   "source": [
    "#Define directories to wav files\n",
    "\n",
    "test_dir = 'D:/SEPR/Main Data-Raw/nsynth-test/audio/'\n",
    "valid_dir = 'D:/SEPR/Main Data-Raw/nsynth-valid/audio/'\n",
    "train_dir = 'D:/SEPR/Main Data-Raw/nsynth-train/audio/'"
   ]
  },
  {
   "cell_type": "code",
   "execution_count": null,
   "id": "a16bd5e1-6e78-4d14-9fcb-85720c0bc46c",
   "metadata": {},
   "outputs": [],
   "source": [
    "# Define output directories - (Update with your desired output directories)\n",
    "\n",
    "#Test:\n",
    "output_dir_test = 'D:/SEPR/img_train'\n",
    "\n",
    "#Valid:\n",
    "output_dir_valid = 'D:/SEPR/img_valid'\n",
    "\n",
    "#Train:\n",
    "output_dir_train2000 = 'D:/SEPR/img_train2000'\n",
    "output_dir_train3000 = 'D:/SEPR/img_train3000'\n",
    "output_dir_train5000 = 'D:/SEPR/img_train5000'\n",
    "output_dir_train8500 = 'D:/SEPR/img_train8500'"
   ]
  },
  {
   "cell_type": "markdown",
   "id": "b2b13bae-cca4-41ac-b380-ce26afbe87b1",
   "metadata": {
    "jp-MarkdownHeadingCollapsed": true
   },
   "source": [
    "## Define Spectrogram Extracting Function"
   ]
  },
  {
   "cell_type": "code",
   "execution_count": null,
   "id": "4e1c8476-e0ce-42e4-b6ee-3d5f8ae689ad",
   "metadata": {},
   "outputs": [],
   "source": [
    "# Define function to extract spectrogram images\n",
    "def spectrogram_image_extract(file, output_dir):\n",
    "    \"\"\"\n",
    "    Extract spectrogram images from audio files and save them in the output directory\n",
    "    \"\"\"\n",
    "    # Load audio file\n",
    "    y, sr = librosa.load(file)\n",
    "    \n",
    "    # Compute the spectrogram\n",
    "    D = librosa.stft(y)\n",
    "    spec = librosa.amplitude_to_db(np.abs(D), ref=np.max)\n",
    "    \n",
    "    # Plot the spectrogram without any titles or labels\n",
    "    plt.figure(figsize=(10, 4))\n",
    "    plt.axis('off')\n",
    "    plt.imshow(spec, aspect='auto', origin='lower', cmap='viridis')\n",
    "    \n",
    "    # Save the spectrogram as an image with higher quality\n",
    "    output_file = os.path.join(output_dir, os.path.basename(file).replace('.wav', '.png'))\n",
    "    plt.savefig(output_file, dpi=100, bbox_inches='tight', pad_inches=0)\n",
    "\n",
    "    #Clean RAM as best as we can! Very Important code - do NOT remove!\n",
    "    plt.close(\"all\")\n",
    "    plt.clf()\n",
    "    plt.close()\n",
    "    gc.collect()"
   ]
  },
  {
   "cell_type": "markdown",
   "id": "8c7e8a4f-2caf-400a-b187-21210780d109",
   "metadata": {
    "jp-MarkdownHeadingCollapsed": true
   },
   "source": [
    "## Testing Set Images"
   ]
  },
  {
   "cell_type": "code",
   "execution_count": null,
   "id": "c286f997-9ab2-4e77-901f-4a109e4a7ffc",
   "metadata": {},
   "outputs": [],
   "source": [
    "# Load filenames_test from the pickle file\n",
    "with open('D:/SEPR/Data Filenames/filenames_test.pickle', 'rb') as f:\n",
    "    filenames_test = pickle.load(f)\n",
    "    \n",
    "# Loop over every file in the list\n",
    "for file in filenames_test:\n",
    "    # Extract the spectrogram image\n",
    "    spectrogram_image_extract(os.path.join(test_dir, file + '.wav'), output_dir_test)"
   ]
  },
  {
   "cell_type": "markdown",
   "id": "30ac0d6d-269b-49bd-9b17-8229e3799365",
   "metadata": {
    "jp-MarkdownHeadingCollapsed": true
   },
   "source": [
    "## Validation Set Images"
   ]
  },
  {
   "cell_type": "code",
   "execution_count": null,
   "id": "5ecd743e-9232-48ff-8d73-cc7f6b7e925b",
   "metadata": {},
   "outputs": [],
   "source": [
    "# Load filenames_test from the pickle file\n",
    "with open('D:/SEPR/Data Filenames/filenames_valid.pickle', 'rb') as f:\n",
    "    filenames_valid = pickle.load(f)\n",
    "    \n",
    "# Loop over every file in the list\n",
    "for file in filenames_valid:\n",
    "    # Extract the spectrogram image\n",
    "    spectrogram_image_extract(os.path.join(valid_dir, file + '.wav'), output_dir_valid)"
   ]
  },
  {
   "cell_type": "markdown",
   "id": "6acad1fd-2a37-4dcc-b64a-20a9c5a3f3c5",
   "metadata": {
    "jp-MarkdownHeadingCollapsed": true
   },
   "source": [
    "## Training Set Images"
   ]
  },
  {
   "cell_type": "markdown",
   "id": "269bb70f-a76d-44ba-b4fb-dbe2764e2f45",
   "metadata": {},
   "source": [
    "**2000 Samples.**"
   ]
  },
  {
   "cell_type": "code",
   "execution_count": null,
   "id": "cc1cd1d6-e5f3-477d-b581-a00f67dbbf81",
   "metadata": {},
   "outputs": [],
   "source": [
    "# Load filenames_test from the pickle file\n",
    "with open('D:/SEPR/Data Filenames/filenames_train2000.pickle', 'rb') as f:\n",
    "    filenames_train2000 = pickle.load(f)\n",
    "    \n",
    "# Loop over every file in the list\n",
    "for file in filenames_train2000:\n",
    "    # Extract the spectrogram image\n",
    "    spectrogram_image_extract(os.path.join(train_dir, file + '.wav'), output_dir_train2000)"
   ]
  },
  {
   "cell_type": "markdown",
   "id": "9969594e-1cba-4c24-a60c-a309d2eec957",
   "metadata": {},
   "source": [
    "**3000 Samples.**"
   ]
  },
  {
   "cell_type": "code",
   "execution_count": null,
   "id": "308ad18f-fd5d-4564-92ed-78515f9441de",
   "metadata": {},
   "outputs": [],
   "source": [
    "# Load filenames_test from the pickle file\n",
    "with open('D:/SEPR/Data Filenames/filenames_train3000.pickle', 'rb') as f:\n",
    "    filenames_train3000 = pickle.load(f)\n",
    "    \n",
    "# Loop over every file in the list\n",
    "for file in filenames_train3000:\n",
    "    # Extract the spectrogram image\n",
    "    spectrogram_image_extract(os.path.join(train_dir, file + '.wav'), output_dir_train3000)"
   ]
  },
  {
   "cell_type": "markdown",
   "id": "161b7b50-150d-4c9c-9676-132abea6e48e",
   "metadata": {},
   "source": [
    "**5000 Samples.**"
   ]
  },
  {
   "cell_type": "code",
   "execution_count": null,
   "id": "6df55083-a1a7-4611-89e8-628e40f22a91",
   "metadata": {},
   "outputs": [],
   "source": [
    "# Load filenames_test from the pickle file\n",
    "with open('D:/SEPR/Data Filenames/filenames_train5000.pickle', 'rb') as f:\n",
    "    filenames_train5000 = pickle.load(f)\n",
    "    \n",
    "# Loop over every file in the list\n",
    "for file in filenames_train5000:\n",
    "    # Extract the spectrogram image\n",
    "    spectrogram_image_extract(os.path.join(train_dir, file + '.wav'), output_dir_train5000)"
   ]
  },
  {
   "cell_type": "markdown",
   "id": "53b3e8d6-a190-477d-bdac-bf0bd4d0875a",
   "metadata": {},
   "source": [
    "**8500 Samples.**"
   ]
  },
  {
   "cell_type": "code",
   "execution_count": null,
   "id": "057ece83-c854-4e16-b7c6-15bf7e7b316c",
   "metadata": {},
   "outputs": [],
   "source": [
    "# Load filenames_test from the pickle file\n",
    "with open('D:/SEPR/Data Filenames/filenames_train8500.pickle', 'rb') as f:\n",
    "    filenames_train8500 = pickle.load(f)\n",
    "    \n",
    "# Loop over every file in the list\n",
    "for file in filenames_train8500:\n",
    "    # Extract the spectrogram image\n",
    "    spectrogram_image_extract(os.path.join(train_dir, file + '.wav'), output_dir_train8500)"
   ]
  }
 ],
 "metadata": {
  "kernelspec": {
   "display_name": "Python 3 (ipykernel)",
   "language": "python",
   "name": "python3"
  },
  "language_info": {
   "codemirror_mode": {
    "name": "ipython",
    "version": 3
   },
   "file_extension": ".py",
   "mimetype": "text/x-python",
   "name": "python",
   "nbconvert_exporter": "python",
   "pygments_lexer": "ipython3",
   "version": "3.10.12"
  }
 },
 "nbformat": 4,
 "nbformat_minor": 5
}
